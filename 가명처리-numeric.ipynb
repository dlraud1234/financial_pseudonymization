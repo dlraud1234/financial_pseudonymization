{
 "cells": [
  {
   "cell_type": "markdown",
   "metadata": {
    "id": "taJmCz9C7FQz"
   },
   "source": [
    "# 0. 데이터 불러오기"
   ]
  },
  {
   "cell_type": "code",
   "execution_count": 2,
   "metadata": {
    "id": "YwIaoG-glwq0"
   },
   "outputs": [],
   "source": [
    "import pandas as pd\n",
    "import numpy as np\n",
    "\n",
    "df = pd.read_csv('C:/Users/KIM/Desktop/회사/교육자료/노트북 자료 최종/교육용데이터.csv', encoding = 'utf-8')"
   ]
  },
  {
   "cell_type": "code",
   "execution_count": 3,
   "metadata": {
    "id": "GLm73xj1lvGM"
   },
   "outputs": [],
   "source": [
    "#데이터 연습용으로 만들기(간단한 것 확인용 데이터)\n",
    "data = [[1000000000000,20220609,46,32015, 20190130,0, 999999991],[1000000000001,20220610,23,4564,20210324,12,35],[1000000000002,20220630,73,45644,20200316,17,999999991]]\n",
    "\n",
    "#칼럼명 바꾸기\n",
    "#df = pd.DataFrame(data, columns=['rbc_no','base_date','미해제연체건수','총 등록금액','미해제 최초발생일자','최고 미상환 대출금액건의 업권','유효현금서비스한도소진율(15일기준)'])\n",
    "df = pd.DataFrame(data, columns=['rbc_no','base_date','a','b','c','d','e'])"
   ]
  },
  {
   "cell_type": "code",
   "execution_count": 2,
   "metadata": {
    "colab": {
     "base_uri": "https://localhost:8080/",
     "height": 143
    },
    "id": "YFrOARo8D4EV",
    "outputId": "b100ae4d-c98a-4c18-e23d-da9df58d617f"
   },
   "outputs": [
    {
     "data": {
      "text/html": [
       "<div>\n",
       "<style scoped>\n",
       "    .dataframe tbody tr th:only-of-type {\n",
       "        vertical-align: middle;\n",
       "    }\n",
       "\n",
       "    .dataframe tbody tr th {\n",
       "        vertical-align: top;\n",
       "    }\n",
       "\n",
       "    .dataframe thead th {\n",
       "        text-align: right;\n",
       "    }\n",
       "</style>\n",
       "<table border=\"1\" class=\"dataframe\">\n",
       "  <thead>\n",
       "    <tr style=\"text-align: right;\">\n",
       "      <th></th>\n",
       "      <th>rbc_no</th>\n",
       "      <th>base_date</th>\n",
       "      <th>미해제연체건수</th>\n",
       "      <th>(신용관리대상/공공정보) 총 등록금액</th>\n",
       "      <th>(채무불이행-신용정보사)미해제 최초발생일자</th>\n",
       "      <th>최고 미상환 대출금액건의 업권</th>\n",
       "      <th>최근3개월내 신용카드 평균 유효현금서비스한도소진율(15일기준)</th>\n",
       "    </tr>\n",
       "  </thead>\n",
       "  <tbody>\n",
       "    <tr>\n",
       "      <th>0</th>\n",
       "      <td>1.000000e+12</td>\n",
       "      <td>20220629</td>\n",
       "      <td>1</td>\n",
       "      <td>39190</td>\n",
       "      <td>20190130</td>\n",
       "      <td>0</td>\n",
       "      <td>999999991</td>\n",
       "    </tr>\n",
       "    <tr>\n",
       "      <th>1</th>\n",
       "      <td>1.000000e+12</td>\n",
       "      <td>20220630</td>\n",
       "      <td>2</td>\n",
       "      <td>54579</td>\n",
       "      <td>20190504</td>\n",
       "      <td>1</td>\n",
       "      <td>12</td>\n",
       "    </tr>\n",
       "    <tr>\n",
       "      <th>2</th>\n",
       "      <td>1.000000e+12</td>\n",
       "      <td>20220629</td>\n",
       "      <td>23</td>\n",
       "      <td>792</td>\n",
       "      <td>20200316</td>\n",
       "      <td>2</td>\n",
       "      <td>34</td>\n",
       "    </tr>\n",
       "    <tr>\n",
       "      <th>3</th>\n",
       "      <td>1.000000e+12</td>\n",
       "      <td>20220605</td>\n",
       "      <td>5</td>\n",
       "      <td>468</td>\n",
       "      <td>20210416</td>\n",
       "      <td>5</td>\n",
       "      <td>76</td>\n",
       "    </tr>\n",
       "    <tr>\n",
       "      <th>4</th>\n",
       "      <td>1.000000e+12</td>\n",
       "      <td>20220629</td>\n",
       "      <td>53</td>\n",
       "      <td>4687</td>\n",
       "      <td>20210518</td>\n",
       "      <td>6</td>\n",
       "      <td>93</td>\n",
       "    </tr>\n",
       "    <tr>\n",
       "      <th>...</th>\n",
       "      <td>...</td>\n",
       "      <td>...</td>\n",
       "      <td>...</td>\n",
       "      <td>...</td>\n",
       "      <td>...</td>\n",
       "      <td>...</td>\n",
       "      <td>...</td>\n",
       "    </tr>\n",
       "    <tr>\n",
       "      <th>94</th>\n",
       "      <td>1.000000e+12</td>\n",
       "      <td>20220605</td>\n",
       "      <td>85</td>\n",
       "      <td>2497</td>\n",
       "      <td>20190504</td>\n",
       "      <td>12</td>\n",
       "      <td>999999991</td>\n",
       "    </tr>\n",
       "    <tr>\n",
       "      <th>95</th>\n",
       "      <td>1.000000e+12</td>\n",
       "      <td>20220605</td>\n",
       "      <td>63</td>\n",
       "      <td>246874</td>\n",
       "      <td>20200316</td>\n",
       "      <td>13</td>\n",
       "      <td>34</td>\n",
       "    </tr>\n",
       "    <tr>\n",
       "      <th>96</th>\n",
       "      <td>1.000000e+12</td>\n",
       "      <td>20220630</td>\n",
       "      <td>4</td>\n",
       "      <td>214646</td>\n",
       "      <td>20210416</td>\n",
       "      <td>15</td>\n",
       "      <td>999999991</td>\n",
       "    </tr>\n",
       "    <tr>\n",
       "      <th>97</th>\n",
       "      <td>1.000000e+12</td>\n",
       "      <td>20220605</td>\n",
       "      <td>83</td>\n",
       "      <td>2164</td>\n",
       "      <td>20210518</td>\n",
       "      <td>16</td>\n",
       "      <td>54</td>\n",
       "    </tr>\n",
       "    <tr>\n",
       "      <th>98</th>\n",
       "      <td>1.000000e+12</td>\n",
       "      <td>20220605</td>\n",
       "      <td>47</td>\n",
       "      <td>5789</td>\n",
       "      <td>20220601</td>\n",
       "      <td>17</td>\n",
       "      <td>75</td>\n",
       "    </tr>\n",
       "  </tbody>\n",
       "</table>\n",
       "<p>99 rows × 7 columns</p>\n",
       "</div>"
      ],
      "text/plain": [
       "          rbc_no  base_date  미해제연체건수  (신용관리대상/공공정보) 총 등록금액  \\\n",
       "0   1.000000e+12   20220629        1                 39190   \n",
       "1   1.000000e+12   20220630        2                 54579   \n",
       "2   1.000000e+12   20220629       23                   792   \n",
       "3   1.000000e+12   20220605        5                   468   \n",
       "4   1.000000e+12   20220629       53                  4687   \n",
       "..           ...        ...      ...                   ...   \n",
       "94  1.000000e+12   20220605       85                  2497   \n",
       "95  1.000000e+12   20220605       63                246874   \n",
       "96  1.000000e+12   20220630        4                214646   \n",
       "97  1.000000e+12   20220605       83                  2164   \n",
       "98  1.000000e+12   20220605       47                  5789   \n",
       "\n",
       "    (채무불이행-신용정보사)미해제 최초발생일자  최고 미상환 대출금액건의 업권  \\\n",
       "0                  20190130                 0   \n",
       "1                  20190504                 1   \n",
       "2                  20200316                 2   \n",
       "3                  20210416                 5   \n",
       "4                  20210518                 6   \n",
       "..                      ...               ...   \n",
       "94                 20190504                12   \n",
       "95                 20200316                13   \n",
       "96                 20210416                15   \n",
       "97                 20210518                16   \n",
       "98                 20220601                17   \n",
       "\n",
       "    최근3개월내 신용카드 평균 유효현금서비스한도소진율(15일기준)  \n",
       "0                            999999991  \n",
       "1                                   12  \n",
       "2                                   34  \n",
       "3                                   76  \n",
       "4                                   93  \n",
       "..                                 ...  \n",
       "94                           999999991  \n",
       "95                                  34  \n",
       "96                           999999991  \n",
       "97                                  54  \n",
       "98                                  75  \n",
       "\n",
       "[99 rows x 7 columns]"
      ]
     },
     "execution_count": 2,
     "metadata": {},
     "output_type": "execute_result"
    }
   ],
   "source": [
    "df"
   ]
  },
  {
   "cell_type": "code",
   "execution_count": 180,
   "metadata": {},
   "outputs": [],
   "source": [
    "#rename columns\n",
    "df.columns = ['rbc_no', 'base_date', 'a', 'b','c','d','e']"
   ]
  },
  {
   "cell_type": "code",
   "execution_count": 181,
   "metadata": {},
   "outputs": [
    {
     "data": {
      "text/html": [
       "<div>\n",
       "<style scoped>\n",
       "    .dataframe tbody tr th:only-of-type {\n",
       "        vertical-align: middle;\n",
       "    }\n",
       "\n",
       "    .dataframe tbody tr th {\n",
       "        vertical-align: top;\n",
       "    }\n",
       "\n",
       "    .dataframe thead th {\n",
       "        text-align: right;\n",
       "    }\n",
       "</style>\n",
       "<table border=\"1\" class=\"dataframe\">\n",
       "  <thead>\n",
       "    <tr style=\"text-align: right;\">\n",
       "      <th></th>\n",
       "      <th>rbc_no</th>\n",
       "      <th>base_date</th>\n",
       "      <th>a</th>\n",
       "      <th>b</th>\n",
       "      <th>c</th>\n",
       "      <th>d</th>\n",
       "      <th>e</th>\n",
       "    </tr>\n",
       "  </thead>\n",
       "  <tbody>\n",
       "    <tr>\n",
       "      <th>0</th>\n",
       "      <td>1.000000e+12</td>\n",
       "      <td>20220629</td>\n",
       "      <td>1</td>\n",
       "      <td>39190</td>\n",
       "      <td>20190130</td>\n",
       "      <td>0</td>\n",
       "      <td>999999991</td>\n",
       "    </tr>\n",
       "    <tr>\n",
       "      <th>1</th>\n",
       "      <td>1.000000e+12</td>\n",
       "      <td>20220630</td>\n",
       "      <td>2</td>\n",
       "      <td>54579</td>\n",
       "      <td>20190504</td>\n",
       "      <td>1</td>\n",
       "      <td>12</td>\n",
       "    </tr>\n",
       "    <tr>\n",
       "      <th>2</th>\n",
       "      <td>1.000000e+12</td>\n",
       "      <td>20220629</td>\n",
       "      <td>23</td>\n",
       "      <td>792</td>\n",
       "      <td>20200316</td>\n",
       "      <td>2</td>\n",
       "      <td>34</td>\n",
       "    </tr>\n",
       "    <tr>\n",
       "      <th>3</th>\n",
       "      <td>1.000000e+12</td>\n",
       "      <td>20220605</td>\n",
       "      <td>5</td>\n",
       "      <td>468</td>\n",
       "      <td>20210416</td>\n",
       "      <td>5</td>\n",
       "      <td>76</td>\n",
       "    </tr>\n",
       "    <tr>\n",
       "      <th>4</th>\n",
       "      <td>1.000000e+12</td>\n",
       "      <td>20220629</td>\n",
       "      <td>53</td>\n",
       "      <td>4687</td>\n",
       "      <td>20210518</td>\n",
       "      <td>6</td>\n",
       "      <td>93</td>\n",
       "    </tr>\n",
       "    <tr>\n",
       "      <th>...</th>\n",
       "      <td>...</td>\n",
       "      <td>...</td>\n",
       "      <td>...</td>\n",
       "      <td>...</td>\n",
       "      <td>...</td>\n",
       "      <td>...</td>\n",
       "      <td>...</td>\n",
       "    </tr>\n",
       "    <tr>\n",
       "      <th>94</th>\n",
       "      <td>1.000000e+12</td>\n",
       "      <td>20220605</td>\n",
       "      <td>85</td>\n",
       "      <td>2497</td>\n",
       "      <td>20190504</td>\n",
       "      <td>12</td>\n",
       "      <td>999999991</td>\n",
       "    </tr>\n",
       "    <tr>\n",
       "      <th>95</th>\n",
       "      <td>1.000000e+12</td>\n",
       "      <td>20220605</td>\n",
       "      <td>63</td>\n",
       "      <td>246874</td>\n",
       "      <td>20200316</td>\n",
       "      <td>13</td>\n",
       "      <td>34</td>\n",
       "    </tr>\n",
       "    <tr>\n",
       "      <th>96</th>\n",
       "      <td>1.000000e+12</td>\n",
       "      <td>20220630</td>\n",
       "      <td>4</td>\n",
       "      <td>214646</td>\n",
       "      <td>20210416</td>\n",
       "      <td>15</td>\n",
       "      <td>999999991</td>\n",
       "    </tr>\n",
       "    <tr>\n",
       "      <th>97</th>\n",
       "      <td>1.000000e+12</td>\n",
       "      <td>20220605</td>\n",
       "      <td>83</td>\n",
       "      <td>2164</td>\n",
       "      <td>20210518</td>\n",
       "      <td>16</td>\n",
       "      <td>54</td>\n",
       "    </tr>\n",
       "    <tr>\n",
       "      <th>98</th>\n",
       "      <td>1.000000e+12</td>\n",
       "      <td>20220605</td>\n",
       "      <td>47</td>\n",
       "      <td>5789</td>\n",
       "      <td>20220601</td>\n",
       "      <td>17</td>\n",
       "      <td>75</td>\n",
       "    </tr>\n",
       "  </tbody>\n",
       "</table>\n",
       "<p>99 rows × 7 columns</p>\n",
       "</div>"
      ],
      "text/plain": [
       "          rbc_no  base_date   a       b         c   d          e\n",
       "0   1.000000e+12   20220629   1   39190  20190130   0  999999991\n",
       "1   1.000000e+12   20220630   2   54579  20190504   1         12\n",
       "2   1.000000e+12   20220629  23     792  20200316   2         34\n",
       "3   1.000000e+12   20220605   5     468  20210416   5         76\n",
       "4   1.000000e+12   20220629  53    4687  20210518   6         93\n",
       "..           ...        ...  ..     ...       ...  ..        ...\n",
       "94  1.000000e+12   20220605  85    2497  20190504  12  999999991\n",
       "95  1.000000e+12   20220605  63  246874  20200316  13         34\n",
       "96  1.000000e+12   20220630   4  214646  20210416  15  999999991\n",
       "97  1.000000e+12   20220605  83    2164  20210518  16         54\n",
       "98  1.000000e+12   20220605  47    5789  20220601  17         75\n",
       "\n",
       "[99 rows x 7 columns]"
      ]
     },
     "execution_count": 181,
     "metadata": {},
     "output_type": "execute_result"
    }
   ],
   "source": [
    "df"
   ]
  },
  {
   "cell_type": "markdown",
   "metadata": {
    "id": "L2H3o7QivNB0"
   },
   "source": [
    "# (분포 현황 파악)"
   ]
  },
  {
   "cell_type": "code",
   "execution_count": 22,
   "metadata": {
    "colab": {
     "base_uri": "https://localhost:8080/"
    },
    "id": "9uouBHOrFwjT",
    "outputId": "6b67d32f-1c75-4082-92d1-73b0a151765b"
   },
   "outputs": [
    {
     "data": {
      "text/plain": [
       "45616.742"
      ]
     },
     "execution_count": 22,
     "metadata": {},
     "output_type": "execute_result"
    }
   ],
   "source": [
    "#분포 현황 파악 #0.1%, 99.9% 파악\n",
    "p1 = np.percentile(df.b, 99.9) # df 데이터의 a 변수의 99.9% 값을 구함\n",
    "p1"
   ]
  },
  {
   "cell_type": "markdown",
   "metadata": {
    "id": "lkhrrQwplyV7"
   },
   "source": [
    "# 1. 상단처리"
   ]
  },
  {
   "cell_type": "code",
   "execution_count": 25,
   "metadata": {
    "id": "_4DTdTh8GTO_"
   },
   "outputs": [],
   "source": [
    "#방법1: 99.9% 값 상단처리\n",
    "for i in range(len(df)):\n",
    "    if df.b[i] > np.percentile(df.b, 99.9):\n",
    "        df.b[i] = np.percentile(df.b, 99.9)\n",
    "    else:\n",
    "        continue\n"
   ]
  },
  {
   "cell_type": "code",
   "execution_count": 193,
   "metadata": {},
   "outputs": [],
   "source": [
    "#방법2: where 사용\n",
    "df.b = np.where(df.b > np.percentile(df.b, 99.9), np.percentile(df.b, 99.9), df.b)"
   ]
  },
  {
   "cell_type": "code",
   "execution_count": 194,
   "metadata": {},
   "outputs": [
    {
     "data": {
      "text/plain": [
       "0    32015.000\n",
       "1     4564.000\n",
       "2    45616.742\n",
       "Name: b, dtype: float64"
      ]
     },
     "execution_count": 194,
     "metadata": {},
     "output_type": "execute_result"
    }
   ],
   "source": [
    "df.b"
   ]
  },
  {
   "cell_type": "code",
   "execution_count": 195,
   "metadata": {},
   "outputs": [
    {
     "data": {
      "text/html": [
       "<div>\n",
       "<style scoped>\n",
       "    .dataframe tbody tr th:only-of-type {\n",
       "        vertical-align: middle;\n",
       "    }\n",
       "\n",
       "    .dataframe tbody tr th {\n",
       "        vertical-align: top;\n",
       "    }\n",
       "\n",
       "    .dataframe thead th {\n",
       "        text-align: right;\n",
       "    }\n",
       "</style>\n",
       "<table border=\"1\" class=\"dataframe\">\n",
       "  <thead>\n",
       "    <tr style=\"text-align: right;\">\n",
       "      <th></th>\n",
       "      <th>rbc_no</th>\n",
       "      <th>base_date</th>\n",
       "      <th>a</th>\n",
       "      <th>b</th>\n",
       "      <th>c</th>\n",
       "      <th>d</th>\n",
       "      <th>e</th>\n",
       "    </tr>\n",
       "  </thead>\n",
       "  <tbody>\n",
       "    <tr>\n",
       "      <th>0</th>\n",
       "      <td>1000000000000</td>\n",
       "      <td>20220609</td>\n",
       "      <td>46</td>\n",
       "      <td>32015.000</td>\n",
       "      <td>20190130</td>\n",
       "      <td>0</td>\n",
       "      <td>999999991</td>\n",
       "    </tr>\n",
       "    <tr>\n",
       "      <th>1</th>\n",
       "      <td>1000000000001</td>\n",
       "      <td>20220610</td>\n",
       "      <td>23</td>\n",
       "      <td>4564.000</td>\n",
       "      <td>20210324</td>\n",
       "      <td>12</td>\n",
       "      <td>35</td>\n",
       "    </tr>\n",
       "    <tr>\n",
       "      <th>2</th>\n",
       "      <td>1000000000002</td>\n",
       "      <td>20220630</td>\n",
       "      <td>73</td>\n",
       "      <td>45616.742</td>\n",
       "      <td>20200316</td>\n",
       "      <td>17</td>\n",
       "      <td>999999991</td>\n",
       "    </tr>\n",
       "  </tbody>\n",
       "</table>\n",
       "</div>"
      ],
      "text/plain": [
       "          rbc_no  base_date   a          b         c   d          e\n",
       "0  1000000000000   20220609  46  32015.000  20190130   0  999999991\n",
       "1  1000000000001   20220610  23   4564.000  20210324  12         35\n",
       "2  1000000000002   20220630  73  45616.742  20200316  17  999999991"
      ]
     },
     "execution_count": 195,
     "metadata": {},
     "output_type": "execute_result"
    }
   ],
   "source": [
    "df"
   ]
  },
  {
   "cell_type": "markdown",
   "metadata": {
    "id": "SXIvA2_jlWS7"
   },
   "source": [
    "# 2. 상하단처리"
   ]
  },
  {
   "cell_type": "code",
   "execution_count": 204,
   "metadata": {
    "id": "OMdLueVZGrRw"
   },
   "outputs": [
    {
     "name": "stdout",
     "output_type": "stream",
     "text": [
      "16.990000000000002\n",
      "0.024\n"
     ]
    }
   ],
   "source": [
    "#방법1 : 0.1%, 99.9% 값 상하단 처리\n",
    "print(np.percentile(df.d, 99.9))\n",
    "print(np.percentile(df.d, 0.1))\n",
    "\n",
    "for i in range(len(df)):\n",
    "    if df.d[i] > np.percentile(df.d, 99.9): \n",
    "        df.d[i] = np.percentile(df.d, 99.9)    # np.percentile(df.e, 99.9) 는 546 과 같은 하나의 숫자\n",
    "    elif df.d[i] < np.percentile(df.d, 0.1):\n",
    "        df.d[i] = np.percentile(df.d, 0.1)     # np.percentile(df.e, 0.1) 는 12와 같은 하나의 숫자\n",
    "    else:\n",
    "        continue\n"
   ]
  },
  {
   "cell_type": "code",
   "execution_count": 205,
   "metadata": {},
   "outputs": [
    {
     "data": {
      "text/plain": [
       "0     0\n",
       "1    12\n",
       "2    16\n",
       "Name: d, dtype: int64"
      ]
     },
     "execution_count": 205,
     "metadata": {},
     "output_type": "execute_result"
    }
   ],
   "source": [
    "df.d"
   ]
  },
  {
   "cell_type": "code",
   "execution_count": 200,
   "metadata": {},
   "outputs": [],
   "source": [
    "#방법2: where 사용\n",
    "df.d = np.where(df.d > np.percentile(df.d, 99.9), np.percentile(df.d, 99.9), df.d)\n",
    "df.d = np.where(df.d < np.percentile(df.d, 0.1), np.percentile(df.d, 0.1), df.d)"
   ]
  },
  {
   "cell_type": "code",
   "execution_count": 201,
   "metadata": {},
   "outputs": [
    {
     "data": {
      "text/plain": [
       "0     0.024\n",
       "1    12.000\n",
       "2    16.990\n",
       "Name: d, dtype: float64"
      ]
     },
     "execution_count": 201,
     "metadata": {},
     "output_type": "execute_result"
    }
   ],
   "source": [
    "df.d"
   ]
  },
  {
   "cell_type": "code",
   "execution_count": null,
   "metadata": {},
   "outputs": [],
   "source": [
    "#0.1, 99.9 \"값\" 상하단 처리\n",
    "for i in range(len(df)):\n",
    "    if df.e[i] > 99.9:\n",
    "        df.e[i]=99.9\n",
    "    elif df.e[i] < 0.1:\n",
    "        df.e[i] = 0.1\n",
    "    else"
   ]
  },
  {
   "cell_type": "code",
   "execution_count": 36,
   "metadata": {},
   "outputs": [
    {
     "data": {
      "text/plain": [
       "0     0\n",
       "1    12\n",
       "2    16\n",
       "Name: d, dtype: int64"
      ]
     },
     "execution_count": 36,
     "metadata": {},
     "output_type": "execute_result"
    }
   ],
   "source": [
    "df.d"
   ]
  }
 ],
 "metadata": {
  "colab": {
   "collapsed_sections": [],
   "name": "가명처리220622ipynb",
   "provenance": []
  },
  "kernelspec": {
   "display_name": "Python 3",
   "language": "python",
   "name": "python3"
  },
  "language_info": {
   "codemirror_mode": {
    "name": "ipython",
    "version": 3
   },
   "file_extension": ".py",
   "mimetype": "text/x-python",
   "name": "python",
   "nbconvert_exporter": "python",
   "pygments_lexer": "ipython3",
   "version": "3.8.3"
  }
 },
 "nbformat": 4,
 "nbformat_minor": 1
}
